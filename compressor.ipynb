{
 "cells": [
  {
   "cell_type": "code",
   "execution_count": 3,
   "metadata": {},
   "outputs": [
    {
     "name": "stdout",
     "output_type": "stream",
     "text": [
      "Data loading complete!\n",
      "(25000,) (1000,)\n"
     ]
    },
    {
     "name": "stderr",
     "output_type": "stream",
     "text": [
      "Predicting: 100%|██████████| 1000/1000 [57:36<00:00,  3.46s/it] "
     ]
    },
    {
     "name": "stdout",
     "output_type": "stream",
     "text": [
      "Accuracy: 0.662\n",
      "Precision: 0.7214840918350609\n",
      "Recall: 0.6675150772974119\n",
      "F1 score: 0.642064419932564\n"
     ]
    },
    {
     "name": "stderr",
     "output_type": "stream",
     "text": [
      "\n"
     ]
    }
   ],
   "source": [
    "import numpy as np\n",
    "\n",
    "from compressor.data import ACLIMDB\n",
    "from compressor.classifier import TextClassifier\n",
    "from compressor.evaluate import ClassifierEvaluator\n",
    "\n",
    "# config\n",
    "k = 2             # how many nearest neighbors to consider \n",
    "n_train = 25_000   # how many training events to include\n",
    "n_test = 1_000   # how many test events to include\n",
    "\n",
    "\n",
    "# load data\n",
    "aclimdb = ACLIMDB(shuffle=True, download=False)\n",
    "\n",
    "aclimdb.load_data()\n",
    "X_train, X_test, y_train, y_test = aclimdb.get_train_test_data()\n",
    "\n",
    "X_train = X_train[:n_train]\n",
    "y_train = y_train[:n_train]\n",
    "\n",
    "X_test = X_test[:n_test]\n",
    "y_test = y_test[:n_test]\n",
    "\n",
    "print(\"Data shapes:\")\n",
    "print(X_train.shape, X_test.shape)\n",
    "\n",
    "print(\"Class counts:\")\n",
    "print(\"Train:\", np.unique(y_train, return_counts=True))\n",
    "\n",
    "# classifier \n",
    "classifier = TextClassifier(n_jobs=4, k=k)\n",
    "\n",
    "classifier.fit(X_train, y_train)\n",
    "predictions = classifier.predict(X_test)\n",
    "predictions = np.array(predictions).astype('int64')\n",
    "\n",
    "# evaluation\n",
    "evaluator = ClassifierEvaluator(y_test, predictions)\n",
    "evaluator.get_report()"
   ]
  }
 ],
 "metadata": {
  "kernelspec": {
   "display_name": "venv",
   "language": "python",
   "name": "python3"
  },
  "language_info": {
   "codemirror_mode": {
    "name": "ipython",
    "version": 3
   },
   "file_extension": ".py",
   "mimetype": "text/x-python",
   "name": "python",
   "nbconvert_exporter": "python",
   "pygments_lexer": "ipython3",
   "version": "3.10.9"
  },
  "orig_nbformat": 4
 },
 "nbformat": 4,
 "nbformat_minor": 2
}
