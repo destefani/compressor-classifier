{
 "cells": [
  {
   "cell_type": "code",
   "execution_count": 1,
   "metadata": {},
   "outputs": [
    {
     "ename": "FileNotFoundError",
     "evalue": "[Errno 2] No such file or directory: '/home/marcelo/code/compressor-classifier/datasets/aclimdb/train/pos'",
     "output_type": "error",
     "traceback": [
      "\u001b[0;31m---------------------------------------------------------------------------\u001b[0m",
      "\u001b[0;31mFileNotFoundError\u001b[0m                         Traceback (most recent call last)",
      "Cell \u001b[0;32mIn[1], line 15\u001b[0m\n\u001b[1;32m     12\u001b[0m \u001b[39m# load data\u001b[39;00m\n\u001b[1;32m     13\u001b[0m aclimdb \u001b[39m=\u001b[39m ACLIMDB(shuffle\u001b[39m=\u001b[39m\u001b[39mTrue\u001b[39;00m)\n\u001b[0;32m---> 15\u001b[0m aclimdb\u001b[39m.\u001b[39;49mload_data()\n\u001b[1;32m     16\u001b[0m X_train, X_test, y_train, y_test \u001b[39m=\u001b[39m aclimdb\u001b[39m.\u001b[39mget_train_test_data()\n\u001b[1;32m     18\u001b[0m X_train \u001b[39m=\u001b[39m X_train[:n_train]\n",
      "File \u001b[0;32m~/code/compressor-classifier/compressor/data.py:21\u001b[0m, in \u001b[0;36mACLIMDB.load_data\u001b[0;34m(self)\u001b[0m\n\u001b[1;32m     19\u001b[0m \u001b[39mfor\u001b[39;00m sentiment \u001b[39min\u001b[39;00m [\u001b[39m\"\u001b[39m\u001b[39mpos\u001b[39m\u001b[39m\"\u001b[39m, \u001b[39m\"\u001b[39m\u001b[39mneg\u001b[39m\u001b[39m\"\u001b[39m]:\n\u001b[1;32m     20\u001b[0m     folder \u001b[39m=\u001b[39m os\u001b[39m.\u001b[39mpath\u001b[39m.\u001b[39mjoin(\u001b[39mself\u001b[39m\u001b[39m.\u001b[39mroot_dir, dataset_type, sentiment)\n\u001b[0;32m---> 21\u001b[0m     \u001b[39mfor\u001b[39;00m filename \u001b[39min\u001b[39;00m os\u001b[39m.\u001b[39;49mlistdir(folder):\n\u001b[1;32m     22\u001b[0m         \u001b[39mwith\u001b[39;00m \u001b[39mopen\u001b[39m(os\u001b[39m.\u001b[39mpath\u001b[39m.\u001b[39mjoin(folder, filename), \u001b[39m'\u001b[39m\u001b[39mr\u001b[39m\u001b[39m'\u001b[39m) \u001b[39mas\u001b[39;00m file:\n\u001b[1;32m     23\u001b[0m             text \u001b[39m=\u001b[39m file\u001b[39m.\u001b[39mread()\n",
      "\u001b[0;31mFileNotFoundError\u001b[0m: [Errno 2] No such file or directory: '/home/marcelo/code/compressor-classifier/datasets/aclimdb/train/pos'"
     ]
    }
   ],
   "source": [
    "import numpy as np\n",
    "\n",
    "from compressor.data import ACLIMDB\n",
    "from compressor.classifier import TextClassifier\n",
    "from compressor.evaluate import ClassifierEvaluator\n",
    "\n",
    "# config\n",
    "k = 2\n",
    "n_train = 60\n",
    "n_test = 10_000\n",
    "\n",
    "# load data\n",
    "aclimdb = ACLIMDB(shuffle=True)\n",
    "\n",
    "aclimdb.load_data()\n",
    "X_train, X_test, y_train, y_test = aclimdb.get_train_test_data()\n",
    "\n",
    "X_train = X_train[:n_train]\n",
    "y_train = y_train[:n_train]\n",
    "\n",
    "X_test = X_test[:n_test]\n",
    "y_test = y_test[:n_test]\n",
    "\n",
    "print(X_train.shape, X_test.shape)\n",
    "\n",
    "# classifier \n",
    "classifier = TextClassifier(n_jobs=4, k=k)\n",
    "\n",
    "classifier.fit(X_train, y_train)\n",
    "predictions = classifier.predict(X_test)\n",
    "predictions = np.array(predictions).astype('int64')\n",
    "\n",
    "# evaluation\n",
    "evaluator = ClassifierEvaluator(y_test, predictions)\n",
    "evaluator.get_report()"
   ]
  },
  {
   "cell_type": "code",
   "execution_count": null,
   "metadata": {},
   "outputs": [],
   "source": [
    "/home/marcelo/code/compressor-classifier/datasets/aclImdb"
   ]
  }
 ],
 "metadata": {
  "kernelspec": {
   "display_name": "venv",
   "language": "python",
   "name": "python3"
  },
  "language_info": {
   "codemirror_mode": {
    "name": "ipython",
    "version": 3
   },
   "file_extension": ".py",
   "mimetype": "text/x-python",
   "name": "python",
   "nbconvert_exporter": "python",
   "pygments_lexer": "ipython3",
   "version": "3.10.9"
  },
  "orig_nbformat": 4
 },
 "nbformat": 4,
 "nbformat_minor": 2
}
