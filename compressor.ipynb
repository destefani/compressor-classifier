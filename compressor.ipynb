{
 "cells": [
  {
   "cell_type": "code",
   "execution_count": 1,
   "metadata": {},
   "outputs": [
    {
     "name": "stderr",
     "output_type": "stream",
     "text": [
      "100%|██████████| 84.1M/84.1M [00:09<00:00, 8.97MiB/s]\n"
     ]
    },
    {
     "name": "stdout",
     "output_type": "stream",
     "text": [
      "/home/mdestefani/code/compressor-classifier/datasets/aclImdb/train/pos\n",
      "/home/mdestefani/code/compressor-classifier/datasets/aclImdb/train/neg\n",
      "/home/mdestefani/code/compressor-classifier/datasets/aclImdb/test/pos\n",
      "/home/mdestefani/code/compressor-classifier/datasets/aclImdb/test/neg\n",
      "Data loading complete!\n",
      "(60,) (10000,)\n"
     ]
    },
    {
     "name": "stderr",
     "output_type": "stream",
     "text": [
      "Predicting: 100%|██████████| 10000/10000 [00:44<00:00, 224.65it/s]\n"
     ]
    },
    {
     "name": "stdout",
     "output_type": "stream",
     "text": [
      "Accuracy: 0.5631\n",
      "Precision: 0.5922338246650773\n",
      "Recall: 0.565162603791995\n",
      "F1 score: 0.5295359616885272\n"
     ]
    }
   ],
   "source": [
    "import numpy as np\n",
    "\n",
    "from compressor.data import ACLIMDB\n",
    "from compressor.classifier import TextClassifier\n",
    "from compressor.evaluate import ClassifierEvaluator\n",
    "\n",
    "# config\n",
    "k = 2            # how many nearest neighbors to consider \n",
    "n_train = 60     # how many training events to include\n",
    "n_test = 10_000  # how many test events to include\n",
    "\n",
    "\n",
    "# load data\n",
    "aclimdb = ACLIMDB(shuffle=True, download=True)\n",
    "\n",
    "aclimdb.load_data()\n",
    "X_train, X_test, y_train, y_test = aclimdb.get_train_test_data()\n",
    "\n",
    "X_train = X_train[:n_train]\n",
    "y_train = y_train[:n_train]\n",
    "\n",
    "X_test = X_test[:n_test]\n",
    "y_test = y_test[:n_test]\n",
    "\n",
    "print(X_train.shape, X_test.shape)\n",
    "\n",
    "# classifier \n",
    "classifier = TextClassifier(n_jobs=4, k=k)\n",
    "\n",
    "classifier.fit(X_train, y_train)\n",
    "predictions = classifier.predict(X_test)\n",
    "predictions = np.array(predictions).astype('int64')\n",
    "\n",
    "# evaluation\n",
    "evaluator = ClassifierEvaluator(y_test, predictions)\n",
    "evaluator.get_report()"
   ]
  },
  {
   "cell_type": "code",
   "execution_count": null,
   "metadata": {},
   "outputs": [],
   "source": []
  }
 ],
 "metadata": {
  "kernelspec": {
   "display_name": "venv",
   "language": "python",
   "name": "python3"
  },
  "language_info": {
   "codemirror_mode": {
    "name": "ipython",
    "version": 3
   },
   "file_extension": ".py",
   "mimetype": "text/x-python",
   "name": "python",
   "nbconvert_exporter": "python",
   "pygments_lexer": "ipython3",
   "version": "3.10.9"
  },
  "orig_nbformat": 4
 },
 "nbformat": 4,
 "nbformat_minor": 2
}
