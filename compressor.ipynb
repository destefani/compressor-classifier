{
 "cells": [
  {
   "cell_type": "code",
   "execution_count": 2,
   "metadata": {},
   "outputs": [
    {
     "name": "stdout",
     "output_type": "stream",
     "text": [
      "Data loading complete!\n",
      "(1000,) (10000,)\n"
     ]
    },
    {
     "name": "stderr",
     "output_type": "stream",
     "text": [
      "Predicting: 100%|██████████| 10000/10000 [13:02<00:00, 12.77it/s]"
     ]
    },
    {
     "name": "stdout",
     "output_type": "stream",
     "text": [
      "Accuracy: 0.589\n",
      "Precision: 0.6247662317914231\n",
      "Recall: 0.5909827751650936\n",
      "F1 score: 0.5600791831781473\n"
     ]
    },
    {
     "name": "stderr",
     "output_type": "stream",
     "text": [
      "\n"
     ]
    }
   ],
   "source": [
    "import numpy as np\n",
    "\n",
    "from compressor.data import ACLIMDB\n",
    "from compressor.classifier import TextClassifier\n",
    "from compressor.evaluate import ClassifierEvaluator\n",
    "\n",
    "# config\n",
    "k = 2             # how many nearest neighbors to consider \n",
    "n_train = 1_000   # how many training events to include\n",
    "n_test = 10_000   # how many test events to include\n",
    "\n",
    "\n",
    "# load data\n",
    "aclimdb = ACLIMDB(shuffle=True, download=False)\n",
    "\n",
    "aclimdb.load_data()\n",
    "X_train, X_test, y_train, y_test = aclimdb.get_train_test_data()\n",
    "\n",
    "X_train = X_train[:n_train]\n",
    "y_train = y_train[:n_train]\n",
    "\n",
    "X_test = X_test[:n_test]\n",
    "y_test = y_test[:n_test]\n",
    "\n",
    "print(X_train.shape, X_test.shape)\n",
    "\n",
    "# classifier \n",
    "classifier = TextClassifier(n_jobs=4, k=k)\n",
    "\n",
    "classifier.fit(X_train, y_train)\n",
    "predictions = classifier.predict(X_test)\n",
    "predictions = np.array(predictions).astype('int64')\n",
    "\n",
    "# evaluation\n",
    "evaluator = ClassifierEvaluator(y_test, predictions)\n",
    "evaluator.get_report()"
   ]
  },
  {
   "cell_type": "code",
   "execution_count": null,
   "metadata": {},
   "outputs": [],
   "source": []
  }
 ],
 "metadata": {
  "kernelspec": {
   "display_name": "venv",
   "language": "python",
   "name": "python3"
  },
  "language_info": {
   "codemirror_mode": {
    "name": "ipython",
    "version": 3
   },
   "file_extension": ".py",
   "mimetype": "text/x-python",
   "name": "python",
   "nbconvert_exporter": "python",
   "pygments_lexer": "ipython3",
   "version": "3.10.9"
  },
  "orig_nbformat": 4
 },
 "nbformat": 4,
 "nbformat_minor": 2
}
